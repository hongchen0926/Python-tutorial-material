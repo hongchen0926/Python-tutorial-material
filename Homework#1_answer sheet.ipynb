{
 "cells": [
  {
   "cell_type": "markdown",
   "metadata": {},
   "source": [
    "* There are different ways of writing the codes for one question. \n",
    "* Please take a look at the code and the explaination along with it. \n",
    "* Compare the code here with the code you have, and think about which way is better. and also is there any improvement that you would like to make for the code here?"
   ]
  },
  {
   "cell_type": "code",
   "execution_count": null,
   "metadata": {
    "collapsed": true
   },
   "outputs": [],
   "source": []
  },
  {
   "cell_type": "code",
   "execution_count": null,
   "metadata": {
    "collapsed": true
   },
   "outputs": [],
   "source": []
  },
  {
   "cell_type": "markdown",
   "metadata": {},
   "source": [
    "# 1.  Extention of a file\n",
    "Write a program that accepts a filename from the user and print the extension of that.\n",
    "   * If Input is : xyz.py\n",
    "   * Then expected output: py"
   ]
  },
  {
   "cell_type": "code",
   "execution_count": null,
   "metadata": {
    "collapsed": true
   },
   "outputs": [],
   "source": [
    "#assigning user's input into a variable, called \"file_name\"\n",
    "file_name = input()\n",
    "\n",
    "#split the file_name into two parts: the name and the extension; and save these two parts as a list, called \"file_name_list\"\n",
    "file_name_list = file_name.split('.')\n",
    "\n",
    "#print out the last element of the file_name_list, i.e., the extension\n",
    "print(file_name_list[-1])  \n",
    "##### print(file_name_list[1]) would also work if we assume all filenames only contain one dot before the extension.\n",
    "##### but print(file_name_list[1]) would not output the extension of the filename, if a filename is xyz.07.23.2018.doc"
   ]
  },
  {
   "cell_type": "markdown",
   "metadata": {},
   "source": [
    "# 2. Acronym\n",
    "Write a program that allows the user to transfer a random phrase into its acronym.\n",
    "    * If phrase = “random access memory”, then expected output is“RAM”"
   ]
  },
  {
   "cell_type": "code",
   "execution_count": null,
   "metadata": {
    "collapsed": true
   },
   "outputs": [],
   "source": [
    "### let's just figure out a way to do the example ### \n",
    "\n",
    "# first, assigning the phrase into a variable\n",
    "s = \"random access memory\"\n",
    "\n",
    "#split the phrase into parts with empty space, and save these two parts as a list, called \"s_list\"\n",
    "s_list = s.split(' ')\n",
    "\n",
    "#there are 3 elements in the list, we need to get access to the first letter of each word. \n",
    "## To print out, is to check whether we get the index right\n",
    "print(s_list[0][0])\n",
    "print(s_list[1][0])\n",
    "print(s_list[2][0])\n",
    "\n",
    "#combine the first letter of each word together\n",
    "s_acronym = s_list[0][0] + s_list[1][0] + s_list[2][0]\n",
    "\n",
    "#change the small case to upper case. \n",
    "print(s_acronym.upper())"
   ]
  },
  {
   "cell_type": "code",
   "execution_count": null,
   "metadata": {
    "collapsed": true
   },
   "outputs": [],
   "source": [
    "### then let's try to turn the program to be a general one, which can take input from users and transfer a random phrase into its acronym.###\n",
    "\n",
    "#first, ask the user to enter a phrase, assigning user's input into a variable, called \"phrase\"\n",
    "print(\"please enter a phrase: \")\n",
    "phrase = input()\n",
    "\n",
    "#second, split the phrase into parts with empty space, and save these two parts as a list, called \"phrase_list\n",
    "phrase_list = phrase.split(' ')\n",
    "\n",
    "#third, caculate the length of the list. because we need to know how many words are there \n",
    "length = len(phrase_list)\n",
    "\n",
    "#assign phrase_acronym as the empty string\n",
    "phrase_acronym = \"\"\n",
    "\n",
    "#starting with 0, the loop ends at the last elmenet \n",
    "i = 0\n",
    "while i < length:\n",
    "    phrase_acronym = phrase_acronym + phrase_list[i][0]\n",
    "    i = i+1 #each time, i increase by 1\n",
    "\n",
    "print(phrase_acronym.upper())"
   ]
  },
  {
   "cell_type": "markdown",
   "metadata": {
    "collapsed": true
   },
   "source": [
    "# 3. Caculate the numbers\n",
    "Write a program that accepts an integer (n) and print out the value of n+nn+nnn.\n",
    "    * For example, if the input integer is 5, then 5 + 5*5 + 5*5*5 = 155.\n",
    "    * Hint: one way to convert a string to an integer is int(). For example, a = \"5\". int(a) + 2 =  7"
   ]
  },
  {
   "cell_type": "code",
   "execution_count": null,
   "metadata": {
    "collapsed": true
   },
   "outputs": [],
   "source": [
    "# accept the user's input and assign it to a variable called n\n",
    "n = input()\n",
    "\n",
    "# convert the type of n to integers and reassign the integer value to n\n",
    "n = int(n)\n",
    "\n",
    "#calculate the numbers\n",
    "print(n + n*n + n*n*n)"
   ]
  },
  {
   "cell_type": "markdown",
   "metadata": {},
   "source": [
    "# 4.  Date format\n",
    "\n",
    "Write a program that converts a date in the United States format (MM-DD-YYYY) to the European format (DD-MM-YYYY) as well as the International Organization for Standardization (ISO) format (YYYY-MM-DD).\n",
    "\n",
    "For example, if the date in the US format that you get from the user is: 09-22-2018, \n",
    "\n",
    "then expected output is :\n",
    "  *  The date in the European format is: 22-09-2018\n",
    "  * The date in the ISO format is: 2018-09-22"
   ]
  },
  {
   "cell_type": "code",
   "execution_count": null,
   "metadata": {
    "collapsed": true
   },
   "outputs": [],
   "source": [
    "# ask the user to enter a phrase, assigning user's input into a variable, called \"us_format\"\n",
    "print(\"please enter a date using the United States date format(MM-DD-YYYY):\")\n",
    "us_format=input()\n",
    "\n",
    "#split the string you get from the user, into a list\n",
    "us_format_list=us_format_list.split(\"-\")\n",
    "\n",
    "# get the day, month, year information\n",
    "month = us_format_list[0]\n",
    "day = us_format_list[1]\n",
    "year = us_format_list[2]\n",
    "\n",
    "#re-combine the day, month, year information,into European style and ISO style\n",
    "Euro_format = day + \"-\" + month + \"-\" + year\n",
    "ISO_format =  year + \"-\" + month + \"-\" + day\n",
    "\n",
    "#print out the final result\n",
    "print(\"The data in the European format is:\", Euro_format)\n",
    "print(\"The data in the ISO format is:\",ISO_format)"
   ]
  },
  {
   "cell_type": "markdown",
   "metadata": {},
   "source": [
    "# 5.  Palindrome\n",
    "Ask the user for a word and print out whether this string is a palindrome or not. If yes, output True\n",
    "(A palindrome is a string that reads the same forwards and backwards.)\n",
    "   * Test on these words \"level\", \"rotor\", \"happy\"\n",
    "   * Hint: one way to reverse a string is to use slicing via index."
   ]
  },
  {
   "cell_type": "code",
   "execution_count": null,
   "metadata": {
    "collapsed": true
   },
   "outputs": [],
   "source": [
    "# ask the user to enter a word, assigning user's input into a variable, called \"word\"\n",
    "print(\"please enter a word.\")\n",
    "word = input()\n",
    "\n",
    "#caculate the length of the word.\n",
    "word_length = len(word)\n",
    "\n",
    "#get the word backwards via index\n",
    "####the last letter of the word is word[word_length-1]\n",
    "####starting with the last letter, going backwards and stop at the first letter. \n",
    "##### string indexing:  x[m:n:y], m-- staring point, n--ending point, y--steps, \"-1\"steps mean move backword \n",
    "word_reverse = word[(word_length-1)::-1]\n",
    "\n",
    "## if the reverse word is the same as the original word, then print out  a confirmation saying \"it is a palidrom\"\n",
    "if(word_reverse == word):\n",
    "    print(word, \"is a palindrome.\")\n",
    "else:\n",
    "    print(word, \"is not a palindrome.\")"
   ]
  },
  {
   "cell_type": "markdown",
   "metadata": {},
   "source": [
    "# 6. even vs. odd\n",
    "Ask the user for a number. If the number is even, print out \"This is an even number\" to the user. If the number is odd, print out \"This is an odd number\".\n",
    "\n",
    "Hint: how does an even / odd number react differently when divided by 2? \n",
    "* % to calculate the modulo of a division"
   ]
  },
  {
   "cell_type": "code",
   "execution_count": null,
   "metadata": {
    "collapsed": true
   },
   "outputs": [],
   "source": [
    "# ask the user to enter an integer, assigning user's input into a variable, called \"number\"\n",
    "print(\"please enter a number.\")\n",
    "number = input()\n",
    "\n",
    "# convert the type of n to integers and reassign the integer value to \"number\"\n",
    "number = int(number)\n",
    "\n",
    "# if the number can be divided by 2 and has no remains, then it is an even number\n",
    "if number%2 == 0:\n",
    "    print(number, \"is an even number.\")\n",
    "else:\n",
    "    print(number, \"is an odd number.\")"
   ]
  },
  {
   "cell_type": "markdown",
   "metadata": {},
   "source": [
    "## 7. Swap string initials\n",
    "\n",
    "Get a single string from two given strings, separated by a space and swap the first two characters of each string.\n",
    "\n",
    "For example:\n",
    "\n",
    "s1 = \"Microsoft\"\n",
    "\n",
    "s2 = \"Engine\"\n",
    "\n",
    "Expected output: \"Eicrosoft Mngine\""
   ]
  },
  {
   "cell_type": "code",
   "execution_count": null,
   "metadata": {
    "collapsed": true
   },
   "outputs": [],
   "source": [
    "#ask the user to enter two strings, assigning user's input into variables, called \"s1\", \"s2\"\n",
    "s1=input('please enter a string:')\n",
    "s2=input('please enter a string:')\n",
    "\n",
    "#the first letter of s1 is s1[0], the first letter of s2 is s2[0];\n",
    "## s1[1:] includes all remaining parts of s1 except for the first letter \n",
    "## s2[1:] includes all remaining parts of s2 except for the first letter \n",
    "\n",
    "## combine\n",
    "print(s2[0]+s1[1:], s1[0]+s2[1:])"
   ]
  },
  {
   "cell_type": "markdown",
   "metadata": {},
   "source": [
    "# 8. Convert a list into a string.\n",
    "\n",
    "Given a list, for example, list1 = ['the', 'brown', 'fox', 'jumped', 'over', 'the', 'lazy', 'fox.']\n",
    "\n",
    "write a program that can convert a list into the expected output is : \"The Brown Fox Jumped Over The Lazy Fox.\"\n",
    "\n",
    "Hint: pay attendtion to the format of the output. It needs to be like `title`.\n"
   ]
  },
  {
   "cell_type": "code",
   "execution_count": null,
   "metadata": {
    "collapsed": true
   },
   "outputs": [],
   "source": [
    "### assigning the list to a variable, named \"list1\".\n",
    "list1 = ['the', 'brown', 'fox', 'jumped', 'over', 'the', 'lazy', 'fox.']\n",
    "\n",
    "## to get access to each word, we can use index, for example, list1[0] =\"the\", we can combine all the words into string\n",
    "string1 = list1[0] + \" \" + list1[1] + \" \" + list1[2] + \" \" + list1[3] + \" \" + list1[4] + \" \" + list1[5] + \" \" +list1[6] + \" \" + list1[7]\n",
    "### string1 = \" \".join(list1), this code also can combine all the elements of a list to a string\n",
    "\n",
    "## we need convert the string into the title format\n",
    "string1 = string1.title()\n",
    "\n",
    "## print out string\n",
    "print(string1)"
   ]
  },
  {
   "cell_type": "code",
   "execution_count": null,
   "metadata": {
    "collapsed": true
   },
   "outputs": [],
   "source": [
    "### let's modify the above code to a more general one.\n",
    "\n",
    "### first take input from the user\n",
    "print(\"Please enter a sentence:\")\n",
    "list2 = input()\n",
    "###### keep in mind that \"input()\" only can store the user's input as a string type data  #######\n",
    "\n",
    "## convert the input (type of string) into a list\n",
    "list2 = list2.split(\" \")\n",
    "\n",
    "## convert list to string\n",
    "string2 = \" \".join(list2)\n",
    "\n",
    "## we need convert the string into the title format\n",
    "string2 = string2.title()\n",
    "\n",
    "## print out string\n",
    "print(string2)"
   ]
  },
  {
   "cell_type": "markdown",
   "metadata": {},
   "source": [
    "# 9. Explain why the following code does not work\n",
    "Hint: there are 6 mistakes of the following code"
   ]
  },
  {
   "cell_type": "code",
   "execution_count": null,
   "metadata": {
    "collapsed": true
   },
   "outputs": [],
   "source": [
    "print(\"Greetings and salutations! I am Bending Unit 22.\")\n",
    "print(\"What is your name?\")\n",
    "name=print()\n",
    "print(\"Nice to meet you!\", name)\n",
    "print(\"Say the right code and you shall pass \")\n",
    "passcode_name = input(print)\n",
    "if passcode_name = \"Open Sesame:\n",
    "print(\"Now you may proceed!\")\n",
    "else:\n",
    "print(\"Wrong code. I will not talk to you today! Goodbye\")"
   ]
  },
  {
   "cell_type": "code",
   "execution_count": null,
   "metadata": {
    "collapsed": true
   },
   "outputs": [],
   "source": [
    "# 6 mistakes of the above cod\n",
    "\n",
    "# 1. name=print() is wrong. print() does not take input from users, so the variable \"name\" is not assigned a value.\n",
    "\n",
    "# 2. passcode_name = input(print) is wrong.  \"print\" is a keyword, and cannot be called as a variable .\n",
    "\n",
    "# 3. passcode_name = \"Open Sesame:  The quotations are not closed \n",
    "\n",
    "# 4. passcode_name = \"Open Sesame:  The wrong \"equals\" is used  \n",
    "\n",
    "# 5. print(\"Now you may proceed!\")  is not indented\n",
    "\n",
    "#  6. print(\"Wrong code. I will not talk to you today! Goodbye\")  is  not indented.\n",
    "\n",
    "## (another comestic thing: for the line of print(\"Nice to meet you!\", name), the exclamation point is not at the end of the sentence )"
   ]
  },
  {
   "cell_type": "code",
   "execution_count": null,
   "metadata": {
    "collapsed": true
   },
   "outputs": [],
   "source": [
    "print(\"Greetings and salutations! I am Bending Unit 22.\")\n",
    "print(\"What is your name?\")\n",
    "name=input()\n",
    "print(\"Nice to meet you,\", name + \"!\")\n",
    "print(\"Say the right code and you shall pass \")\n",
    "passcode_name = input()\n",
    "if passcode_name == \"Open Sesame\":\n",
    "    print(\"Now you may proceed!\")\n",
    "else:\n",
    "    print(\"Wrong code. I will not talk to you today! Goodbye\")"
   ]
  },
  {
   "cell_type": "markdown",
   "metadata": {},
   "source": [
    "# 10. (extra credit. optional question)\n",
    "\n",
    "\n",
    "Somebody tried to write a small number guessing game.\n",
    "The game should work as follows:\n",
    "\n",
    "1.  There are two predetermined numbers.\n",
    "1.  The user gets to guess a number until he gets at least one right.\n",
    "    If the user accidentally repeats a guess, the computer tells them so.\n",
    "    \n",
    "Here's an example conversation:\n",
    "\n",
    "1. I am thinking of two numbers.\n",
    "1. Can you guess one of the two numbers?\n",
    "1. 52\n",
    "1. 52 is the wrong guess!\n",
    "1. 52\n",
    "1. You have tried that number before!\n",
    "1. 42\n",
    "1. You guessed correctly.\n",
    "1. You have found one of the numbers, the game ends here.\n",
    "\n",
    "Unfortunately the programmer did not do a good job, so their program does not at all work like described above.\n",
    "The code below is littered with mistakes, both *syntactic* and *semantic* ones.\n",
    "A syntactic mistake is one where a command is not written correctly, for instance because it is missing a colon, there is a typo, or something like that.\n",
    "A semantic mistake is one where the code will run fine, but it won't do what the programmer wanted it to do, for instance because they confused `13` with `\"13\"` or because they simply forgot to add an essential command.\n",
    "\n",
    "Pretend you are a TA who has to give the student feedback on their code.\n",
    "Add comments to the current code to indicate any mistakes and explain why things won't work as desired.\n",
    "Then put a fully fixed version in the empty code cell below.\n",
    "\n",
    "   * Hint: a `while` loop repeatedly executes the statements in the loop as long as the condition remains true.The condition is a Boolean expression.If the condition evaluates to False, the while loop is finished. If the condition evaluates to True, the while loop body gets executed."
   ]
  },
  {
   "cell_type": "code",
   "execution_count": null,
   "metadata": {
    "collapsed": true
   },
   "outputs": [],
   "source": [
    "# My number guessing game, with a repetition checker\n",
    "greeting = print(\"I am thinking of two numbers.\")\n",
    "\n",
    "# we loop until we get a right, i.e. true answer\n",
    "while input not True:\n",
    "    print(greeting, \"Can you guess one of the two numbers?\")\n",
    "    # store the input\n",
    "    input == input()\n",
    "\n",
    "    # check if input is correct\n",
    "    if input not in memory and if input() = 42 or 56\n",
    "        print(\"You guessed correctly\")\n",
    "    # otherwise tell user it's the wrong guess\n",
    "    else if in put not in memory print(input \"is the wrong guess!\")\n",
    "    # and complain if the user repeats guesses\n",
    "    else:\n",
    "        print(\"You have tired that number before!\")\n",
    "    print(\"You have found one of the numbers, the game ends here.\")"
   ]
  },
  {
   "cell_type": "code",
   "execution_count": null,
   "metadata": {
    "collapsed": true
   },
   "outputs": [],
   "source": [
    "# comments to the above code:\n",
    "\n",
    "### 1.  input == input()  is wrong. first, this is just a boolean function, which is vacaously true.\n",
    "\n",
    "### 2. to update the \"memory\", we need first to assign an empty list and update it based on user's input.\n",
    "\n",
    "### 3. to update the evaluation result, we aslo need to assgin the evaluation result to be False, and update the boolean variable \n",
    "          ###### based on the evaluation of the previous input.\n",
    "\n",
    "### 4. to check whether x is the same as y, we need \"==\", instead of  \"=\"\n",
    "\n",
    "### 5.\"input\" is a predefined function in python, should not be used as variable name to assgin new value. \n",
    "\n",
    "### 6. We cannot do any operations over a variable which is not defined yet. In the previous code, \"memory\" is not defined. \n",
    "\n",
    "### 7. In Python, \"else if\" should be writted as \"else:\" or \"elif\"\n",
    "\n",
    "### 8. \"in put\" was spelled incorrectly. and to check whether x is in the input, we need to say \"x in variable_name\"\n",
    "\n",
    "### 9. \"tried\" spelled incorrectly\n",
    "\n",
    "#### 10. \"print(\"You have found one of the numbers, the game ends here.\") is outof the if loops, but within the while loop,\n",
    "            ### which wwould execute every time as long as the input is not matching \"42\" or \"56\". This is not what we want. \n",
    "            ### what we want is to print out this message when the user repeatedly inputs something. \n"
   ]
  },
  {
   "cell_type": "code",
   "execution_count": null,
   "metadata": {
    "collapsed": true
   },
   "outputs": [],
   "source": [
    "#put your revised code here.\n",
    "# My number guessing game, with a repetition checker\n",
    "greeting = \"I am thinking of two numbers.\"\n",
    "target_numbers = [\"42\",\"56\"]\n",
    "\n",
    "# the initial point of guess is an empty string\n",
    "guess = []\n",
    "\n",
    "#the initial point of the guessing result is False.\n",
    "guess_result = False\n",
    "\n",
    "\n",
    "## if guess is not in target_numbers, we loop, until guess is in target_numbers\n",
    "while guess_result == False:\n",
    "    print(greeting, \"Can you guess one of the two numbers?\")\n",
    "    # store the input\n",
    "    n = input()\n",
    "\n",
    "    # check if guess is in target_numbers, if yes, change the guess_result to Ture and end the game\n",
    "    if n in target_numbers:\n",
    "        print(\"You guessed correctly\")\n",
    "        guess_result = True\n",
    "        print(\"You have found one of the numbers, the game ends here.\")\n",
    "        \n",
    "    # and complain if the user repeats guesses\n",
    "    if n in guess:\n",
    "        print(\"You have tried that number before!\")\n",
    "    # otherwise tell user it's the wrong guess, and update the guess list with n\n",
    "    if (n not in guess) and (n not in target_numbers):\n",
    "        print(n,\"is the wrong guess!\")\n",
    "        guess.append(n)\n",
    "    "
   ]
  }
 ],
 "metadata": {
  "kernelspec": {
   "display_name": "Python 3",
   "language": "python",
   "name": "python3"
  },
  "language_info": {
   "codemirror_mode": {
    "name": "ipython",
    "version": 3
   },
   "file_extension": ".py",
   "mimetype": "text/x-python",
   "name": "python",
   "nbconvert_exporter": "python",
   "pygments_lexer": "ipython3",
   "version": "3.6.1"
  }
 },
 "nbformat": 4,
 "nbformat_minor": 2
}
