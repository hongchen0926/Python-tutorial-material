{
 "cells": [
  {
   "cell_type": "markdown",
   "metadata": {},
   "source": [
    "* There are different ways of writing the codes for one question. \n",
    "* Please take a look at the code and the explaination along with it. \n",
    "* Compare the code here with the code you have, and think about which way is better. and also is there any improvement that you would like to make for the code here?"
   ]
  },
  {
   "cell_type": "code",
   "execution_count": null,
   "metadata": {
    "collapsed": true
   },
   "outputs": [],
   "source": []
  },
  {
   "cell_type": "markdown",
   "metadata": {},
   "source": [
    "## 1. \"Happy Birthday\" song\n",
    "\n",
    "Define a function, named \"sing_a_song(name)\" that prints out the lyrics to the \"Happy Birthday\" song for a person whose name is given by the user.\n",
    "\n",
    "The standard lyrics look like: \n",
    "\n",
    "     * Happy birthday to you!\n",
    "     * Happy birthday to you!\n",
    "     * Happy birthday, dear <name>!\n",
    "     * Happy birthday to you!\n",
    "\n",
    "Test your function with three different names!"
   ]
  },
  {
   "cell_type": "code",
   "execution_count": null,
   "metadata": {
    "collapsed": true
   },
   "outputs": [],
   "source": [
    "def sing_a_song(name):\n",
    "    print (\"Happy birthday to you!\")\n",
    "    print (\"Happy birthday to you!\")\n",
    "    print (\"Happy birthday,\", \"dear\", name + \"!\")  ### pay attention to the spaces in between. \n",
    "    print (\"Happy birthday to you!\")\n",
    "    \n",
    "\n",
    "sing_a_song(\"John\") \n",
    "sing_a_song(\"Mary\") "
   ]
  },
  {
   "cell_type": "markdown",
   "metadata": {},
   "source": [
    "## 2. Numeric value of a name\n",
    "\n",
    "Numerologists claim to be able to determine a person's character traits based the \"numeric value\" of a name. The value of a name is determined by summing up the values of the letters of the name where \"a\" is 0, \"b\" is 1, \"c\" is 2 etc., up to \"z\" being 25. \n",
    "\n",
    "For exmaple, the name \"John\" would have the values of 9 + 14 + 7 + 13 = 43.\n",
    "\n",
    "Write a function named \"numeric_value(name)\" that calculates the numeric value of a single name provided as input. \n",
    "\n",
    "Test your function with \"Mary\", \"Jane\", \"Robert\".\n",
    "\n",
    "Hint: to find a position of certain element in a string, you can use index()."
   ]
  },
  {
   "cell_type": "code",
   "execution_count": null,
   "metadata": {
    "collapsed": true
   },
   "outputs": [],
   "source": [
    "### \n",
    "\n",
    "def numeric_value(name):\n",
    "    \n",
    "    name = name.lower() ### remove the cases\n",
    "    \n",
    "    letters = [\"a\",\"b\",\"c\",\"d\",\"e\",\"f\",\"g\",\"h\",\"i\",\"j\",\"k\",\"l\",\"m\",\"n\",\"o\",\"p\",\"q\",\"r\",\"s\",\"t\",\"u\",\"v\",\"w\",\"x\",\"y\",\"z\"]\n",
    "    ## put 26 English letters in a list. The first element of the list is in position 0, because index of list starts from 0 in Python.\n",
    "    \n",
    "    value = 0  ## set the initial point of the value, so you can update it later.\n",
    "    \n",
    "    for i in name:\n",
    "        value = value + letters.index(i) ### check every letter in the name, find the index number of the letter in the list, and update value.\n",
    "        \n",
    "    return value  #### don't froget to return the final result!\n",
    "\n",
    "print(numeric_value(\"John\"))\n",
    "print(numeric_value(\"Mary\"))\n",
    "print(numeric_value(\"Jane\"))\n",
    "print(numeric_value(\"Robert\"))"
   ]
  },
  {
   "cell_type": "markdown",
   "metadata": {},
   "source": [
    "Expand your solution to the previous problem to allow the calculation of a complete name such as \"John Zelle\". The total value is just the sum of the numeric values of all the names.\n",
    "\n",
    "Test your function with \"John Zelle\", \"John Legend\", \"Jane Austin\"."
   ]
  },
  {
   "cell_type": "code",
   "execution_count": null,
   "metadata": {
    "collapsed": true
   },
   "outputs": [],
   "source": [
    "### the only difference between this and the previous one is that you need to remove spaces btween the first name and the second name.\n",
    "### there are multiple ways of removing spaces in a string, as we discussed in Homework 3. \n",
    "\n",
    "def numeric_value(name):\n",
    "    \n",
    "    name = name.lower() ### remove the cases\n",
    "    \n",
    "    name = name.replace(\" \",\"\")  ### replace the space with empty \n",
    "    \n",
    "    letters = [\"a\",\"b\",\"c\",\"d\",\"e\",\"f\",\"g\",\"h\",\"i\",\"j\",\"k\",\"l\",\"m\",\"n\",\"o\",\"p\",\"q\",\"r\",\"s\",\"t\",\"u\",\"v\",\"w\",\"x\",\"y\",\"z\"]\n",
    "    ## put 26 English letters in a list. The first element of the list is in position 0, because index of list starts from 0 in Python.\n",
    "    \n",
    "    value = 0  ## set the initial point of the value, so you can update it later.\n",
    "    \n",
    "    for i in name:\n",
    "        value = value + letters.index(i) ### check every letter in the name, find the index number of the letter in the list, and update value.\n",
    "        \n",
    "    return value  #### don't froget to return the final result!\n",
    "\n",
    "print(numeric_value(\"John Zelle\"))\n",
    "print(numeric_value(\"John Legend\"))\n",
    "print(numeric_value(\"Jane Austin\"))\n"
   ]
  },
  {
   "cell_type": "markdown",
   "metadata": {},
   "source": [
    "## 3. double the investment \n",
    "\n",
    "Write a funtion named \"double_investment(interest_rate)\" that uses a while loop to determine how long it takes for an investment to double at a given interest rate. \n",
    "\n",
    "The input will be an annualized interest rate, and the output is the number of years it takes an investment to double. \n",
    "\n",
    "You can set any value as the initial investment, for example $1000.\n",
    "\n",
    "Hint: if the interest_rate is 15 percent per yer, then after one year, the initial investment plus the interest would be 1000 + 1000 x 15 x 0.01.\n",
    "\n",
    "\n",
    "Test your function with \"15\", \"20\", \"10\", i.e., the interest rate per year is 15 percent or 20 percent or 10 percent."
   ]
  },
  {
   "cell_type": "code",
   "execution_count": null,
   "metadata": {
    "collapsed": true
   },
   "outputs": [],
   "source": [
    "def double_investement(interest_rate):\n",
    "    \n",
    "    capital = 1000    ## the initial investment\n",
    "    \n",
    "    capital_plus_interest = 1000 ## the initial capital_plus_interest, same as the capital_plus_interest, since you haven't staretd inversted\n",
    "    \n",
    "    n = 0  ## initial number of how many years you have invested\n",
    "    \n",
    "    while True:\n",
    "        if capital_plus_interest > (capital*2):  \n",
    "            ### break the while loop only when the capital_plus_interest is bigger than the double of initial investment\n",
    "            break\n",
    "            \n",
    "        else:\n",
    "            capital_plus_interest =  capital_plus_interest + (capital * int(interest_rate) * 0.01)\n",
    "            ## update the capital_plus_interest every year; multiplying 0.01 is the way to convert the percentage into decimals\n",
    "            \n",
    "            n = n+1 \n",
    "            ### keep record of the number of year\n",
    "            \n",
    "    return n  \n",
    "    ### return the final result\n",
    "\n",
    "print(double_investement(\"15\"))\n",
    "print(double_investement(\"20\"))\n",
    "print(double_investement(\"10\"))"
   ]
  },
  {
   "cell_type": "markdown",
   "metadata": {},
   "source": [
    "## 4.  Acronym\n",
    "\n",
    "Write a function named \"acronym(phrase)\" that can oupt the acronmy for a phrase. \n",
    "\n",
    "For example, LI is an acronmy for \"language inquiry\".\n",
    "\n",
    "Test your function with \"random access memory\", \"language inquiry\" and \"Artifical Intelligence\"."
   ]
  },
  {
   "cell_type": "code",
   "execution_count": null,
   "metadata": {
    "collapsed": true
   },
   "outputs": [],
   "source": [
    "def acronym(phrase):\n",
    "    \n",
    "    ### split the phrase into parts with empty space, and save these two parts as a list, called \"phrase_list\n",
    "    phrase_list = phrase.split(' ')\n",
    "    \n",
    "    #caculate the length of the list. because we need to know how many words are there \n",
    "    length = len(phrase_list)\n",
    "    \n",
    "    #assign phrase_acronym as the empty string\n",
    "    phrase_acronym = \"\"\n",
    "    \n",
    "    #starting with 0, the loop ends at the last elmenet \n",
    "    i = 0\n",
    "    while i < length:\n",
    "        phrase_acronym = phrase_acronym + phrase_list[i][0] ### extract the first letter of each element in the list.\n",
    "        i = i+1 #each time, i increase by 1\n",
    "        \n",
    "    return phrase_acronym.upper()\n",
    "\n",
    "\n",
    "\n",
    "print(acronym(\"language inquiry\"))\n",
    "print(acronym(\"random access memory\"))\n",
    "print(acronym(\"Artifical Intelligence\"))"
   ]
  },
  {
   "cell_type": "markdown",
   "metadata": {},
   "source": [
    "## 5. Email address\n",
    "\n",
    "Define a function, named \"converter(email_address)\" that can take an email address from the users and change the host of the email address to \"stonybrook.edu\"\n",
    "\n",
    "For example:\n",
    "\n",
    "Input: alice.wu@gmail.com\n",
    "\n",
    "Output: alice.wu@stonybrook.edu \n",
    "\n",
    "\n",
    "Test your function with \"alice.wu@gmail.com\", \"hongchen.wu@yahoo.com\", \"john.wu.1@hotmail.com\"\n"
   ]
  },
  {
   "cell_type": "code",
   "execution_count": null,
   "metadata": {
    "collapsed": true
   },
   "outputs": [],
   "source": [
    "def converter(email_address):\n",
    "    \n",
    "    position =  email_address.index(\"@\") ### find the position of @\n",
    "    \n",
    "    old_host =  email_address[(position+1):]  ### the host the of the email address would start after @\n",
    "    \n",
    "    new_email_address = email_address.replace(old_host,\"stonybrook.edu\") ### replace the the host the of the email address with stonybrook.edu\n",
    "    \n",
    "    return new_email_address  ### return the new email address \n",
    "    \n",
    "\n",
    "print(converter(\"alice.wu@gmail.com\"))\n",
    "print(converter(\"hongchen.wu@yahoo.com\"))\n",
    "print(converter(\"john.wu.1@hotmail.com\"))"
   ]
  },
  {
   "cell_type": "markdown",
   "metadata": {},
   "source": [
    "## 6. Chatbot\n",
    "\n",
    "We designed a chatbot *Lord Loudmouth* in Homework3. \n",
    "\n",
    "Lord Loundmouth has a lovely wife, *Lady Lunatic*.\n",
    "She, too, is conversationally challenged:\n",
    "\n",
    "- Every command she turns into a sentence (exclamation marks become dots).\n",
    "- Every sentence she turns into a question (dots become question marks).\n",
    "- Every question she turns into a command (question marks become exclamation marks).\n",
    "\n",
    "\n",
    "For example:\n",
    "\n",
    "- Input: \"Let it go!\"\n",
    "\n",
    "- Output: \"Let it go.\"\n",
    "\n",
    "- Input: \"You don't like me anymore?\"\n",
    "\n",
    "- Output: \"You don't like me anymore!\"\n",
    "\n",
    "\n",
    "Lady Lunatic keeps doing this until the user says **Goodbye.** or **goodbye.** \n",
    "\n",
    "Write a program for Lady Lunatic.\n",
    "\n",
    "Two important hints:\n",
    "\n",
    "1. `?` menas optional in regular expressions; to indicate question marks , you need `\\?`; same for dot `.`\n",
    "\n",
    "1. re.sub(r\"\\?\", r\"!\", \"Hi?\") means changing a question marker to an exclamation marker, so the output is \"Hi!\""
   ]
  },
  {
   "cell_type": "code",
   "execution_count": null,
   "metadata": {
    "collapsed": true
   },
   "outputs": [],
   "source": [
    "import random\n",
    "import re\n",
    "\n",
    "### give a random greeting sentence from the list\n",
    "greeting = random.choice([\"Hello\",\n",
    "                           \"Hey, there!\",\n",
    "                           \"Nice to meet you!\"])\n",
    "print (greeting)\n",
    "\n",
    "\n",
    "### keep asking user's input unless the user says \"Goodbye\" etc. \n",
    "while True:\n",
    "    reply = input() ### take the input\n",
    "    reply = re.sub(\"!\",\"@.\",reply)   ### change ! to @. not . to avoid the later process rechange . into ?\n",
    "    reply = re.sub(\"\\?\",\"@!\",reply)\n",
    "    reply = re.sub(\"[^@]\\.\",\"@?\",reply) ### only change . when it's not preceeded by @, to make sure the dot is originally in the input,\n",
    "                                       #######  not from the first re.sub () process\n",
    "    reply =  reply.replace(\"@\",\"\")  ### remove all @\n",
    "    print (reply)\n",
    "    if reply in [\" Goodbye.\",\"goodbye\"]:\n",
    "        break"
   ]
  },
  {
   "cell_type": "markdown",
   "metadata": {},
   "source": [
    "## 7. Grammar Checker (extra credit, optional)\n",
    "\n",
    "Write a program that could correct the subject_verb agreement errors in English. \n",
    "\n",
    "Hint: regular expressions can help you.  At least try to make your code work for these examples.\n",
    "\n",
    "For example:\n",
    "\n",
    "- Input: The two best things was the food and the music.\n",
    "\n",
    "- Output: The two best things were the food and the music.\n",
    "\n",
    "\n",
    "- Input: An important thing of my life have been the people who stood by me.\n",
    "\n",
    "- Output: An important part of my life has been the people who stood by me.\n",
    "\n",
    "\n",
    "- Input: All the neighbors of Bill is always annoying.\n",
    "\n",
    "- output: All the neighbors of Bill are always annoying."
   ]
  },
  {
   "cell_type": "code",
   "execution_count": null,
   "metadata": {
    "collapsed": true
   },
   "outputs": [],
   "source": [
    "import re\n",
    "\n",
    "def grammar_checker(text):  \n",
    "    \n",
    "    singular = [\"was\",\"has\",\"is\",\"seems\"]  ## put singluar forms in a list\n",
    "    \n",
    "    plural = [\"were\",\"have\",\"are\",\"seem\"]  ## put plural forms in a list\n",
    "    \n",
    "     \n",
    "    if re.search(r\"^All the [A-Za-z]+s( of [A-Za-z]+)? (was |has |is |seems )\", text): \n",
    "        ###search whether there is a pattern like \"All the ...of ... was/is/has/seems\". \n",
    "        print (\"Subject verb agreement error, detected!\") ## if yes, print out a warning message.\n",
    "        for i in range(len(singular)):\n",
    "            text = text.replace(singular[i],plural[i])\n",
    "    \n",
    "    elif re.search(r\"^One of [A-Za-z]+ [A-Za-z]+ (were |have |are |seem )\", text): \n",
    "        ###search whether there is a pattern like \"One of ...have/are/seem\". \n",
    "        print (\"Subject verb agreement error, detected!\") ## if yes, print out a warning message.\n",
    "        for i in range(len(singular)):\n",
    "            text = text.replace(plural[i],singular[i])\n",
    "            \n",
    "    elif re.search(r\"s (was |has |is |seems )\",text):  ## here I assume that \"-s\" is an indication for pluarl forms.\n",
    "                                                     ### check if the be verb in singluar form is preceeded by \"-s\"\n",
    "        print (\"Subject verb agreement error, detected!\") ## if yes, print out a warning message.\n",
    "        \n",
    "        for i in range(len(singular)):\n",
    "            ### here we assume that the singular form in the singular list is corresponding to its pluarl form in the pluarl list\n",
    "            text = text.replace(singular[i],plural[i])\n",
    "            \n",
    "    elif re.search(r\"[^s] (were |have |are |seem )\",text):  # here I assume that \"-s\" is an indication for pluarl forms.\n",
    "                                                     ### check if the be verb in plural form is not preceeded by \"-s\"\n",
    "        print (\"Subject verb agreement error, detected!\")  ### if it's not preceeded by \"-s\", print out a warning message.\n",
    "        for i in range(len(plural)):\n",
    "            text = text.replace(plural[i],singular[i])\n",
    "            \n",
    "    return text  ### return the final result\n",
    "\n",
    "print(grammar_checker(\"The two best things was the food and the music.\"))\n",
    "print(grammar_checker(\"An important thing of my life have been the people who stood by me.\"))\n",
    "print(grammar_checker(\"She seems to be fine.\"))\n",
    "print(grammar_checker(\"All the neighbors of Bill is always annoying.\"))\n",
    "print(grammar_checker(\"One of my friends are from Austria.\"))"
   ]
  }
 ],
 "metadata": {
  "kernelspec": {
   "display_name": "Python 3",
   "language": "python",
   "name": "python3"
  },
  "language_info": {
   "codemirror_mode": {
    "name": "ipython",
    "version": 3
   },
   "file_extension": ".py",
   "mimetype": "text/x-python",
   "name": "python",
   "nbconvert_exporter": "python",
   "pygments_lexer": "ipython3",
   "version": "3.6.1"
  }
 },
 "nbformat": 4,
 "nbformat_minor": 2
}
