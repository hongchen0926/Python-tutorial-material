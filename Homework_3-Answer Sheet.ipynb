{
 "cells": [
  {
   "cell_type": "markdown",
   "metadata": {},
   "source": [
    "* There are different ways of writing the codes for one question. \n",
    "* Please take a look at the code and the explaination along with it. \n",
    "* Compare the code here with the code you have, and think about which way is better. and also is there any improvement that you would like to make for the code here?"
   ]
  },
  {
   "cell_type": "markdown",
   "metadata": {},
   "source": [
    "## 1. Leap year\n",
    "* Write a python program to decide if a year is a leap year.\n",
    "* A leap year is exactly divisible by 4 except for century years (years ending with 00). The century year is a leap year only if it is perfectly divisible by 400. For example,\n",
    "    - 2017 is not a leap year\n",
    "    - 1900 is not a leap year\n",
    "    - 2012 is a leap year\n",
    "    - 2000 is a leap year\n",
    "    "
   ]
  },
  {
   "cell_type": "code",
   "execution_count": null,
   "metadata": {
    "collapsed": true
   },
   "outputs": [],
   "source": [
    "### put your answer here\n",
    "\n",
    "year =  input (\"please enter a 4-digit number:\") ### save user's input into a variable\n",
    " \n",
    "year = int(year)   ### convert string into an integer. In python, the default date type of an input is string\n",
    "\n",
    "if year%100 == 0:  ## first check whether the year is a century year or not\n",
    "    if year%400 ==0:  ## if it's a centry year, check whether it can be divided by 400\n",
    "        print (year, \"is a leap year.\") \n",
    "    else:\n",
    "        print (year, \"is not a leap year.\")\n",
    "else:\n",
    "    if year%4 == 0:  ### if it's not a century year,check whether it can be divided by 4.\n",
    "        print (year, \"is a leap year\")\n",
    "    else:\n",
    "        print (year, \"is not a leap year\")\n"
   ]
  },
  {
   "cell_type": "markdown",
   "metadata": {},
   "source": [
    "## 2. Common words\n",
    "\n",
    "Write a program that accepts two sentences from users and displays the list of common words in them.\n",
    "\n",
    "Example: \n",
    "\n",
    "     * sentence 1 = \"Learn from yesterday, live for today, hope for tomorrow.\"\n",
    "     \n",
    "     * sentence 2 = \"Live as if you were to dietomorrow, and learn as if you were to live forever.\"\n",
    "     \n",
    "     * (output) [\"learn\", \"live\", \"tomorrow\"]\n",
    "     \n",
    "     \n",
    "Make sure that your program will not repeat the same word in the result.\n",
    "     \n",
    "     * sentence 1 = \"You are never too old to set another goal or to dream a new dream.\"\n",
    "     \n",
    "     * sentence 2 = \"If you can dream it, you can do it.\"\n",
    "     \n",
    "     * (output) [\"you\", \"dream\"]"
   ]
  },
  {
   "cell_type": "code",
   "execution_count": null,
   "metadata": {
    "collapsed": true
   },
   "outputs": [],
   "source": [
    "### put your answer here\n",
    "\n",
    "##1. accept two sentences from users and assign the sentences into two variables\n",
    "sentence1 = input(\"Please enter the first sentence:\")\n",
    "sentence2 = input(\"Please enter the second sentence:\")\n",
    "\n",
    "##2. normalize the sentences by removing cases\n",
    "sentence1 =  sentence1.lower()\n",
    "sentence2 = sentence2.lower()\n",
    "\n",
    "##3. remove the punctuations\n",
    "for i in [\",\",\"!\",\".\",\";\",\"?\",\"...\"]:\n",
    "    sentence1 = sentence1.replace(i,\"\")\n",
    "    sentence2 = sentence2.replace(i,\"\")\n",
    "    \n",
    "##4. split the sentences into lists:\n",
    "sentence1_list = sentence1.split(\" \")\n",
    "sentence2_list = sentence2.split(\" \")\n",
    "\n",
    "##5. check whether a word in sentence1_list is also in sentence2_list; if yes, append the word to common words list; \n",
    "           ### but needs to make sure that the word was not appended to the common words list before.\n",
    "common_words = [] ## set an empty list to store the common words\n",
    "for word in sentence1_list:\n",
    "    if (word in sentence2_list) and (word not in common_words):\n",
    "        common_words.append(word)\n",
    "        \n",
    "\n",
    "## 6. print out the results:\n",
    "print(\"The common words in the two sentences are: \",common_words)\n",
    "        "
   ]
  },
  {
   "cell_type": "code",
   "execution_count": null,
   "metadata": {
    "collapsed": true
   },
   "outputs": [],
   "source": [
    "### another way by using re.findall()\n",
    "\n",
    "import re\n",
    "\n",
    "##1. accept two sentences from users and assign the sentences into two variables\n",
    "sentence1 = input(\"Please enter the first sentence:\")\n",
    "sentence2 = input(\"Please enter the second sentence:\")\n",
    "\n",
    "##2. normalize the sentences by removing cases\n",
    "sentence1 =  sentence1.lower()\n",
    "sentence2 = sentence2.lower()\n",
    "\n",
    "##3. extract words from the sentences (\\w in regular expression means any word)\n",
    "sentence1_list = re.findall(\"\\w+\",sentence1)\n",
    "sentence2_list = re.findall(\"\\w+\",sentence2)\n",
    "\n",
    "##4. check whether a word in sentence1_list is also in sentence2_list; if yes, append the word to common words list; \n",
    "           ### but needs to make sure that the word was not appended to the common words list before.\n",
    "common_words = []\n",
    "for word in sentence1_list:\n",
    "    if (word in sentence2_list) and (word not in common_words):\n",
    "        common_words.append(word)     \n",
    "\n",
    "## 5. print out the results:\n",
    "print(\"The common words in the two sentences are: \",common_words)"
   ]
  },
  {
   "cell_type": "markdown",
   "metadata": {},
   "source": [
    "## 3. College classification\n",
    "A certain college classifies students according to credits earned. \n",
    "\n",
    "A student with less than 7 credits is a Freshman. At least 7 credits are required to be a Sophomore,16 to be a Junior and 26 to be classified as a Senior. \n",
    "\n",
    "Write a program that decides the class of a student by the number of credits earned by him/her."
   ]
  },
  {
   "cell_type": "code",
   "execution_count": null,
   "metadata": {
    "collapsed": true
   },
   "outputs": [],
   "source": [
    "### put your answer here\n",
    "\n",
    "## save user's input into a variable\n",
    "credits = input(\"How many credits have you earned? \")\n",
    "\n",
    "### convert string into an integer. In python, the default date type of an input is string\n",
    "credits =  int(credits)\n",
    "\n",
    "if credits < 7:\n",
    "    print (\"You are a Freshman.\")\n",
    "elif credits < 16:\n",
    "    print (\"You are a Sophomore.\")\n",
    "elif credits < 26:\n",
    "    print (\"You are a Junior.\")\n",
    "elif credits >= 26:\n",
    "    print (\"You are a Senior.\")"
   ]
  },
  {
   "cell_type": "markdown",
   "metadata": {},
   "source": [
    "## 4.  Be verbs\n",
    "\n",
    "Write a program that displays all be-verbs (\"be\",\"is\",\"are\",\"am\",\"was\",\"were\",\"been\",\"being\") in the text given by a user, and count how many be-verbs there are."
   ]
  },
  {
   "cell_type": "code",
   "execution_count": null,
   "metadata": {
    "collapsed": true
   },
   "outputs": [],
   "source": [
    "### put your answer here\n",
    "\n",
    "import re\n",
    "\n",
    "## put all be_verbs into a list\n",
    "be_verbs = [\"be\",\"is\",\"are\",\"am\",\"was\",\"were\",\"been\",\"being\"]\n",
    "\n",
    "## save user's input into a variable\n",
    "text = input(\"Please enter some text: \")\n",
    "\n",
    "### similar to question 2, you need to first normalize the text and then extract words from the text into a list\n",
    "text =  text.lower()\n",
    "text_list = re.findall(\"\\w+\",text)\n",
    "\n",
    "###set an initial point of the be verbs in the text, i.e., empty list\n",
    "be_verbs_in_text = []\n",
    "\n",
    "### check whether a word in tex_list is also in be_verbs; if yes, append the word to be_verbs_in_text list;\n",
    "for word in text_list:\n",
    "    if word in be_verbs:\n",
    "        be_verbs_in_text.append(word)\n",
    "        \n",
    "### count how many be verbs in the text\n",
    "count_be_verbs_in_text = len(be_verbs_in_text)\n",
    "\n",
    "\n",
    "### print out the results        \n",
    "print (\"There are\", str(count_be_verbs_in_text), \"be verbs in the text.\")\n",
    "print (\"The be verbs in the text are: \", be_verbs_in_text)\n"
   ]
  },
  {
   "cell_type": "markdown",
   "metadata": {},
   "source": [
    "## 5. Function words\n",
    "\n",
    "Write a program that returns a new version of the given text in which the first letter of all words are capitalized except for prepositions (\"in\", \"at\", \"through\", \"over\", \"between\", \"under\") and articles (\"a\", \"an\", \"the\") and conjunctions (\"and\", \"but\", \"for\", \"since\", \"as\",\"so\"). \n",
    "\n",
    "Example:\n",
    "\n",
    "   * Input : \"language technology and machine learning\"\n",
    "   * Expected output: \"Language Technology and Machine Learning\""
   ]
  },
  {
   "cell_type": "code",
   "execution_count": null,
   "metadata": {
    "collapsed": true
   },
   "outputs": [],
   "source": [
    "### put your answer here\n",
    "\n",
    "## put all function_words into a list\n",
    "function_words = [\"in\", \"at\", \"through\", \"over\", \"between\", \"under\",\"a\", \"an\", \"the\", \"and\", \"but\", \"for\", \"since\", \"as\",\"so\"]\n",
    "\n",
    "## save user's input into a variable\n",
    "text = input (\"Please enter some text: \")\n",
    "\n",
    "### first normalize the text and then split the text into a list\n",
    "text = text.lower()\n",
    "text = text.split(\" \")\n",
    "\n",
    "### set an initial point of a list, i.e., empty list, to store the updated words.\n",
    "text_list = []\n",
    "\n",
    "## for a word in the text, if the word is not a fucntion word, then change it to title format, and add to the text_list\n",
    "                           ### if the word is a function word, then keep it as it is, and add to the text_list\n",
    "for word in text:\n",
    "    if word not in function_words:\n",
    "        word = word.title()\n",
    "        text_list.append(word)\n",
    "    else:\n",
    "        text_list.append(word)\n",
    "\n",
    "#### convert the list into a string. \n",
    "text_result = \" \".join(text_list)\n",
    "\n",
    "### print out the final result\n",
    "print (text_result)"
   ]
  },
  {
   "cell_type": "markdown",
   "metadata": {},
   "source": [
    "## 6. No repetition\n",
    "\n",
    "Verify that no name is repeated in `members` by writing some code that prints `\"Seems OK\"` if no name is repeated, or prints out a name if it is repeated."
   ]
  },
  {
   "cell_type": "code",
   "execution_count": null,
   "metadata": {
    "collapsed": true
   },
   "outputs": [],
   "source": [
    "members = [\"Arnetta\",\"Thomasena\",\"Tammera\",\"Rosamaria\",\"Lorene\",\"Ileana\",\"Angela\",\"Carletta\",\"Mathew\",\"Kum\",\"Preston\",\"Charlene\",\"Wilson\",\"Kathryne\",\"Ariel\",\"Shawn\",\"Stacie\",\"Coralie\",\"Kenna\",\"Robert\",\"Bethel\",\"Marc\",\"Ferdinand\",\"Rico\",\"Anne\",\"Ginette\",\"Tamiko\",\"Dominque\",\"Dian\",\"Loraine\",\"Sharen\",\"Onie\",\"Temeka\",\"Ceola\",\"Cherly\",\"Samual\",\"Leeanne\",\"Rosamond\",\"Arianna\",\"Calandra\",\"Violette\",\"Jenelle\",\"Luisa\",\"Desiree\",\"Krista\",\"Brittani\",\"Angella\",\"Estela\",\"Gudrun\",\"Maryrose\"]\n",
    "\n",
    "### put your answer here\n",
    "\n",
    "## set an empty list to store the repeated words\n",
    "repeated_word = []\n",
    "\n",
    "## for a word in members, if that word appears more than once in members, and it hasn't been added to the repeated word list,\n",
    "                              ### then add to the repeated word list.\n",
    "                              ### to count how many times an element appears in a list, use count()\n",
    "for word in members:\n",
    "    if members.count(word) >1 and word not in repeated_word:\n",
    "        repeated_word.append(word)\n",
    "\n",
    "## at the end, check if any word has been added to the repeated word list, if no, then print seems ok; if yes, then print out the names\n",
    "if len(repeated_word) == 0:\n",
    "    print (\"Seems OK\")\n",
    "else:\n",
    "    print (\"The repeated names are: \", repeated_word)"
   ]
  },
  {
   "cell_type": "markdown",
   "metadata": {},
   "source": [
    "## 7. German surname\n",
    "\n",
    "Write a regular expression that matches a common surname in German, which has four different spellings: Maier, Mayer, Meier, Meyer"
   ]
  },
  {
   "cell_type": "code",
   "execution_count": null,
   "metadata": {
    "collapsed": true
   },
   "outputs": [],
   "source": [
    "### put your answer here\n",
    "\n",
    "import re\n",
    "\n",
    "## put all these surnames into a list\n",
    "surnames = [\"Maier\", \"Mayer\", \"Meier\", \"Meyer\"]\n",
    "\n",
    "## if a name in this list can be matched with the pattern \"M[ae][iy]er\", then return the position\n",
    "for name in surnames:\n",
    "    print (re.search(\"M[ae][iy]er\",name))"
   ]
  },
  {
   "cell_type": "markdown",
   "metadata": {},
   "source": [
    "## 8. Stem\n",
    "\n",
    "Write a program (using regular expressions) that strips off a suffix and pulls out the stem of a word. \n",
    "\n",
    "Suppose that suffixes include: 'ing', 'ly', 'ed', 'ious', 'ies', 'ive', 'es', 's', 'ment'.\n",
    "\n",
    "Example :\n",
    "\n",
    "    * Input: \"langauges\"\n",
    "    * Expected output: \"language\"\n",
    "    \n",
    "    * Input: \"agreement\"\n",
    "    * Expected output: \"agree\"\n",
    "    \n",
    "Hint: try with re.findall(), and think about how to convert a list [\"l\",\"a\",\"n\",\"d\"] to a string \"land\".\n"
   ]
  },
  {
   "cell_type": "code",
   "execution_count": null,
   "metadata": {
    "collapsed": true
   },
   "outputs": [],
   "source": [
    "### put your answer here\n",
    "\n",
    "import re\n",
    "\n",
    "## save user's input \n",
    "word = input(\"Please enter a word: \")\n",
    "\n",
    "\n",
    "## if the word contains a suffix, then save the suffix\n",
    "if re.findall(\"(ing)$\",word):\n",
    "    word_suffix = re.findall(\"(ing)$\",word)\n",
    "elif re.findall(\"(ly)$\",word):\n",
    "    word_suffix = re.findall(\"(ly)$\",word)\n",
    "elif re.findall(\"(ed)$\",word):\n",
    "    word_suffix = re.findall(\"(ed)$\",word)\n",
    "elif re.findall(\"(iou)$\",word):\n",
    "    word_suffix = re.findall(\"(ious)$\",word)\n",
    "elif re.findall(\"(ies)$\",word):\n",
    "    word_suffix = re.findall(\"(ies)$\",word)\n",
    "elif re.findall(\"(ive)$\",word):\n",
    "    word_suffix = re.findall(\"(ive)$\",word)\n",
    "elif re.findall(\"(es)$\",word):\n",
    "    word_suffix = re.findall(\"(es)$\",word)\n",
    "elif re.findall(\"(s)$\",word):\n",
    "    word_suffix = re.findall(\"(s)$\",word)\n",
    "elif re.findall(\"(ment)$\",word):\n",
    "    word_suffix = re.findall(\"(ment)$\",word)\n",
    "\n",
    "    \n",
    "## re.findall() returns a list. we need to join the elements in the list into a string.\n",
    "word_suffix =  \"\".join(word_suffix)\n",
    "\n",
    "## replace the suffix with empty string, i.e., remove the suffix.\n",
    "word_stem = word.replace(word_suffix,\"\")\n",
    "\n",
    "## print out the result\n",
    "print (\"The stem of the word is \"+word_stem+\".\")"
   ]
  },
  {
   "cell_type": "code",
   "execution_count": null,
   "metadata": {
    "collapsed": true
   },
   "outputs": [],
   "source": [
    "## another way, using re.sub()\n",
    "\n",
    "word = input(\"Please enter a word: \")\n",
    "\n",
    "## replace the suffix in a word with empty string, and assign the value into a variable\n",
    "word_stem = re.sub(\"(ing$)|(ly$)|(ed$)|(ious$)|(ies$)|(ive$)|(es$)|(s$)|(ment$)\",\"\", word) \n",
    "\n",
    "## print the results\n",
    "print (\"The stem of the word is \"+word_stem+\".\")"
   ]
  },
  {
   "cell_type": "markdown",
   "metadata": {},
   "source": [
    "## 9. Count\n",
    "\n",
    "Write a program count that takes the given text and counts how many times each word appears in the text.\n",
    "\n",
    "Example:\n",
    "\n",
    "     Input: \"Oh, do you know the muffin man. The muffin man, the muffin man. Oh, do you know the muffin man. That lives on Drury Lane?\"\n",
    "     \n",
    "     Output: you : 2, on : 1, lives : 1, lane : 1, man : 4, drury : 1, oh : 2, do : 2, muffin : 4, know : 2, that : 1, the : 4\n",
    "     \n",
    "Hinit: re.sub()\n",
    "* re.sub(r\"?\", r\"\", \"Hi?\") means removing a question marker to an exclamation marker, so the output is \"Hi\"\n",
    " \n",
    "  "
   ]
  },
  {
   "cell_type": "code",
   "execution_count": null,
   "metadata": {
    "collapsed": true
   },
   "outputs": [],
   "source": [
    "### put your answer here\n",
    "\n",
    "import re\n",
    "import collections\n",
    "\n",
    "text = input(\"Please enter some text: \")\n",
    "\n",
    "## remove the cases\n",
    "text = text.lower()\n",
    "\n",
    "### similiar to some steps in question 2, we need to extract words from the sentences \n",
    "text_list = re.findall(\"\\w+\",text)\n",
    "\n",
    "## using collections.Counter to caculate the occurances of a word.\n",
    "print(collections.Counter(text_list))\n"
   ]
  },
  {
   "cell_type": "code",
   "execution_count": null,
   "metadata": {
    "collapsed": true
   },
   "outputs": [],
   "source": [
    "### another way, using count()\n",
    "\n",
    "import re\n",
    "\n",
    "text = input(\"Please enter some text: \")\n",
    "\n",
    "## remove the cases\n",
    "text = text.lower()\n",
    "\n",
    "## similiar to some steps in question 2, we need to extract words from the sentences \n",
    "text_list = re.findall(\"\\w+\",text)\n",
    "\n",
    "## set an initial value of the text count\n",
    "text_counts = []\n",
    "\n",
    "\n",
    "## for wor in text_list, calculate the occurance of the word in the text_list, and save the word + count (word) information into a variable\n",
    "                                    ### count() returns an integer, so we need str() to convert an integer into a string.\n",
    "for word in text_list:\n",
    "    word_count = word + \": \" + str(text_list.count(word))\n",
    "    ## if the number of occurances of a word has not been added to the text_counts, do so\n",
    "    if word_count not in text_counts:\n",
    "        text_counts.append(word_count)\n",
    "\n",
    "## print the result. using join(), to convert a list to a string.\n",
    "print (\", \".join(text_counts))"
   ]
  },
  {
   "cell_type": "markdown",
   "metadata": {},
   "source": [
    "## 10. Chatbot\n",
    "\n",
    "Design a new chatbot, *Lord Loudmouth*.\n",
    "Lord Loudmouth, possibly as a result of the inbreeding that is so common among aristocractic nobility, is not the greatest conversationalist.\n",
    "He just repeats whatever words the user said, but with three exclamation marks after each word.\n",
    "\n",
    "So if the user enters **Hi. I am John, what is your name?**, \n",
    "Lord Loudmouth will reply **Hi!!! I!!! Am!!! John!!! What!!! Is!!! Your!!! Name!!!**.\n",
    "\n",
    "Lord Loudmouth keeps doing this until the user says **Goodbye.**, **Sorry, my ears are ringing.**, or **And I thought it's the quiet ones you oughta watch.** (or some variant with sloppier punctuation and capitalisation).\n",
    "\n",
    "Hinit: re.sub()\n",
    "* re.sub(r\"?\", r\"!\", \"Hi?\") means changing a question marker to an exclamation marker, so the output is \"Hi!\""
   ]
  },
  {
   "cell_type": "code",
   "execution_count": null,
   "metadata": {},
   "outputs": [],
   "source": [
    "### put your answer here\n",
    "\n",
    "import random\n",
    "import re\n",
    "\n",
    "### give a random greeting sentence from the list\n",
    "greeting = random.choice([\"Hello\",\n",
    "                           \"Hey, there!\"\n",
    "                           \"Nice to meet you!\"])\n",
    "print (greeting)\n",
    "\n",
    "\n",
    "### keep asking user's input unless the user says \"Goodbye\" etc. \n",
    "while True:\n",
    "    user_input = input()\n",
    "    user_input = user_input.lower()  ### change to lower case\n",
    "    reply = re.findall(\"\\w+\",user_input)  ### extract the words from user's input\n",
    "    for word in reply:\n",
    "        print (word.title(), end = \"!!! \")  ### for each word in the input, add \"!!! \" at the end. \n",
    "    if user_input in [\" Goodbye.\",\"Sorry, my ears are ringing.\", \"And I thought it's the quiet ones you oughta watch.\"]:\n",
    "        break"
   ]
  },
  {
   "cell_type": "code",
   "execution_count": null,
   "metadata": {},
   "outputs": [],
   "source": [
    "#### another way： using re.sub()\n",
    "\n",
    "import random\n",
    "import re\n",
    "\n",
    "### give a random greeting sentence from the list\n",
    "greeting = random.choice([\"Hello\",\n",
    "                           \"Hey, there!\"\n",
    "                           \"Nice to meet you!\"])\n",
    "print (greeting)\n",
    "\n",
    "\n",
    "### keep asking user's input unless the user says \"Goodbye\" etc. \n",
    "while True:\n",
    "    user_input = input()\n",
    "    user_input = user_input.lower()  ### change to lower case\n",
    "    reply = re.findall(\"\\w+\",user_input) ### extract the words from user's input\n",
    "    reply = \" \".join(reply) ### convert the list to a string by joining the words in the list with a space\n",
    "    reply =  reply + \" \" ## make sure that there is a space after the last word\n",
    "    reply = re.sub(\" \",\"!!! \",reply.title())  ### change the space between words into !!! and make the word with title format\n",
    "    print (reply)\n",
    "    if user_input in [\" Goodbye.\",\"Sorry, my ears are ringing.\", \"And I thought it's the quiet ones you oughta watch.\"]:\n",
    "        break"
   ]
  }
 ],
 "metadata": {
  "kernelspec": {
   "display_name": "Python 3",
   "language": "python",
   "name": "python3"
  },
  "language_info": {
   "codemirror_mode": {
    "name": "ipython",
    "version": 3
   },
   "file_extension": ".py",
   "mimetype": "text/x-python",
   "name": "python",
   "nbconvert_exporter": "python",
   "pygments_lexer": "ipython3",
   "version": "3.6.1"
  }
 },
 "nbformat": 4,
 "nbformat_minor": 2
}
