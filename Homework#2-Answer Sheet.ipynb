{
 "cells": [
  {
   "cell_type": "markdown",
   "metadata": {},
   "source": [
    "* There are different ways of writing the codes for one question. \n",
    "* Please take a look at the code and the explaination along with it. \n",
    "* Compare the code here with the code you have, and think about which way is better. and also is there any improvement that you would like to make for the code here?"
   ]
  },
  {
   "cell_type": "markdown",
   "metadata": {},
   "source": [
    "# 1. Palindrome\n",
    "\n",
    "The code is designed to ask the user for a string and print out whether this string is a palindrome or not, but it does not work. Please explain why and fix the code. \n",
    "\n",
    "** A palindrome is a string that reads the same forwards and backwards."
   ]
  },
  {
   "cell_type": "code",
   "execution_count": null,
   "metadata": {
    "collapsed": true
   },
   "outputs": [],
   "source": [
    "print(\"Please give me a word\")\n",
    "ltr = input(print)\n",
    "if ltr.lower() == ltr[::-3].lower():print(\"You got a palindrome!\")\n",
    "else:print(\"Not a palindrome!\")"
   ]
  },
  {
   "cell_type": "code",
   "execution_count": null,
   "metadata": {
    "collapsed": true
   },
   "outputs": [],
   "source": [
    "### explain why the above code doesn't work\n",
    "\n",
    "### input(print) put \"print\" , a built-in function inside the input. \n",
    "\n",
    "### ltr[::-3].lower() compares the word to every 3rd letter of the word from the end, not what the question asked for\n",
    "\n",
    "##"
   ]
  },
  {
   "cell_type": "code",
   "execution_count": null,
   "metadata": {
    "collapsed": true
   },
   "outputs": [],
   "source": [
    "### put your revised code here\n",
    "s=\"Please give me a word\"\n",
    "ltr = input(s)\n",
    "if ltr.lower() == ltr[::-1].lower():\n",
    "    print(\"You got a palindrome!\")\n",
    "else:\n",
    "    print(\"Not a palindrome!\")"
   ]
  },
  {
   "cell_type": "markdown",
   "metadata": {},
   "source": [
    "# 2. Greetings\n",
    "\n",
    "* Design a chatbot that could greet users based on user's nationality. \n",
    "\n",
    "Here are some examples of the conversation:\n",
    "\n",
    "Example 1:\n",
    "1. What is your nationality?\n",
    "1. French\n",
    "1. Préférez-vous parler français?\n",
    "\n",
    "Example 2:\n",
    "1. What is your nationality? \n",
    "1. German\n",
    "1. Wollen Sie lieber Deutsch sprechen?\n",
    "\n",
    "Example 3:\n",
    "1. What is your nationality? \n",
    "1. Italian\n",
    "1. Preferisci parlare italiano?\n",
    "\n",
    "Example 4:\n",
    "1. What is your nationality? \n",
    "1. Korean\n",
    "1. Do you speak English? \n",
    "1. Yes.\n",
    "1. We can speak English to each other then!\n",
    "\n",
    "Example 5:\n",
    "1. What is your nationality? \n",
    "1. Korean\n",
    "1. Do you speak English? \n",
    "1. No.\n",
    "1. Please wait a second. Let me find you an assistant.\n",
    "\n",
    "Example 6: \n",
    "1. What is your nationality? \n",
    "1. Japanese\n",
    "1. Do you speak English? \n",
    "1. Yes.\n",
    "1. We can speak English to each other then!\n",
    "\n",
    "Example 7:\n",
    "1. What is your nationality? \n",
    "1. Korean\n",
    "1. Do you speak English? \n",
    "1. Not really.\n",
    "1. Please wait a second. Let me find you an assistant."
   ]
  },
  {
   "cell_type": "code",
   "execution_count": null,
   "metadata": {
    "collapsed": true
   },
   "outputs": [],
   "source": [
    "### put your answer here \n",
    "### Hint: you can use if...else.... or elif...\n",
    "\n",
    "nationality = input(\"What is your nationality?\") \n",
    "### ask for input from the user\n",
    "### the message \"What is your nationality?\" is the message sent to the user to remind him/her what kind of info to input\n",
    "### and assign user's input into a variable called \"nationality\"\n",
    "\n",
    "if nationality == 'French':\n",
    "    print('Préférez-vous parler français?')\n",
    "elif nationality == 'German':\n",
    "    print('Wollen Sie lieber Deutsch sprechen?')\n",
    "elif nationality == 'Italian':\n",
    "    print('Preferisci parlare italiano?')\n",
    "else:  #### if the user's nationality is not French or German or Italian, then ask whether user\n",
    "    speak_English = input(\"Do you speak Enlish?\")\n",
    "    if speak_English in [\"yes\",\"Yes\",\"yes.\",\"Yes.\"]:  #### check whether user's answer is one of the anwers in the list\n",
    "        print('We can speak English to each other then!')\n",
    "    else:\n",
    "        print('Please wait a second. Let me find you an assistant.') "
   ]
  },
  {
   "cell_type": "markdown",
   "metadata": {},
   "source": [
    "# 3. Cat years\n",
    "It is generally agreed that the first two years of a cat’s life are roughly equal to the first 25 of a human’s, and after this, each additional year is around four ‘cat years’. \n",
    "\n",
    "This means if your cat is six years old, their equivalent cat age in human years will be around 41.\n",
    "\n",
    "Please write a program which can ask a user for how old his/her cat is and then output the cat age in human years.\n",
    "\n",
    "* Hint the formula for calculting cat years is : if cat_age > 2, then cat age in human is 25 + (cat_age-2)* 4. \n",
    "  \n",
    "\n"
   ]
  },
  {
   "cell_type": "code",
   "execution_count": null,
   "metadata": {
    "collapsed": true
   },
   "outputs": [],
   "source": [
    "age = int(input(\"How old is your cat? \")) ### using int() to convert a string to a number\n",
    "if age < 2:\n",
    "    print(\"Your cat is too young!\")\n",
    "elif age == 2:\n",
    "    print(\"Your cat is 25 years old in human years.\")\n",
    "else: \n",
    "    print(\"Your cat is \" + str(25 + (age-2)*4) + \" years old in human years.\")"
   ]
  },
  {
   "cell_type": "markdown",
   "metadata": {},
   "source": [
    "# 4. Get gerunds\n",
    "\n",
    "Write a Python program to get the gerund form of a verb from users' input where \"ing\" has been added to the end. \n",
    "\n",
    "If the verb given by the user already ends with \"ing\", then print the verb unchanged. Otherwise, add “ing” to the end of the verb and print out the new form of the verb."
   ]
  },
  {
   "cell_type": "code",
   "execution_count": null,
   "metadata": {
    "collapsed": true
   },
   "outputs": [],
   "source": [
    "##put your answer here ###\n",
    "verb = input(\"Please give me a string: \")\n",
    "if verb[-3:] == \"ing\": ### check whether the last 3 letters of a string are \"ing\"\n",
    "    print (verb)\n",
    "else:\n",
    "    print(verb + \"ing\")"
   ]
  },
  {
   "cell_type": "markdown",
   "metadata": {},
   "source": [
    "# 5. Open seame\n",
    "\n",
    "Explain in English what the following code can do. How many times can you try for the passcode?\n"
   ]
  },
  {
   "cell_type": "code",
   "execution_count": 1,
   "metadata": {},
   "outputs": [
    {
     "name": "stdout",
     "output_type": "stream",
     "text": [
      "Say the right thing and you shall pass!\n",
      "h\n",
      "Hint: pay attention to your letter case! Try again!\n",
      "Say the right thing and you shall pass!\n",
      "j\n",
      "Hint: pay attention to your letter case! Try again!\n",
      "Say the right thing and you shall pass!\n",
      "j\n",
      "Hint: pay attention to your letter case! Try again!\n"
     ]
    }
   ],
   "source": [
    "n = 0\n",
    "\n",
    "while n < 3:\n",
    "    print(\"Say the right thing and you shall pass!\")\n",
    "    passcode = input()\n",
    "    if passcode == \"Open Sesame\":\n",
    "        print(\"Now you may proceed!\")\n",
    "    else: \n",
    "        if passcode == \"open sesame\" or \"OPEN SESAME\" or \"oPEN sESAME\":\n",
    "            print(\"Hint: pay attention to your letter case! Try again!\")\n",
    "        else: \n",
    "            print(\"Completely Wrong code! Try again!\")\n",
    "    \n",
    "    n = n+1"
   ]
  },
  {
   "cell_type": "code",
   "execution_count": null,
   "metadata": {
    "collapsed": true
   },
   "outputs": [],
   "source": [
    "### put your explaination here\n",
    "\n",
    "### The while loop will stop after the user inputs the passcode wrong for more than 3 times or the user inputs the correct passcode \n",
    " \n",
    "### If the user inputs the correct one, a message \"Now you may proceed!\" will be printed out\n",
    "\n",
    "## If the user inputs the wrong one, but similar to the corret one,  a message \"Hint: pay attention to your letter case! Try again!\" will be printed out\n",
    "\n",
    "### if the user inputs completely irrelevant one,  a message \"Completely Wrong code! Try again!\" will be printed out"
   ]
  },
  {
   "cell_type": "markdown",
   "metadata": {},
   "source": [
    "# 6. Print out certain items in a list \n",
    "* Your list is  [1, 2, 3, 4, 5, 6, 7, 8, 9, 10].\n",
    "* Write a program that can print out certain items in this list based on the user's input. If the user enters an even number, then print out the 2nd, 4th, 6th, 8th, and 10th items. If the user enters an odd number, then print out the 1st, 3rd, 5th, 7th, and 9th items in the list. "
   ]
  },
  {
   "cell_type": "code",
   "execution_count": null,
   "metadata": {
    "collapsed": true
   },
   "outputs": [],
   "source": [
    "#### put your answer here \n",
    "\n",
    "lst = [1, 2, 3, 4, 5, 6, 7, 8, 9, 10]\n",
    "\n",
    "numbers = int(input(\"Please give me a number\")) \n",
    "\n",
    "if numbers%2 == 0:\n",
    "    print(lst[1::2]) ### start from the 2nd element of a list and print out every the other one.\n",
    "else:\n",
    "    print(lst[::2])"
   ]
  },
  {
   "cell_type": "code",
   "execution_count": null,
   "metadata": {
    "collapsed": true
   },
   "outputs": [],
   "source": [
    "#### another way \n",
    "\n",
    "lst = [1, 2, 3, 4, 5, 6, 7, 8, 9, 10]\n",
    "\n",
    "numbers = int(input(\"Please give me a number\")) \n",
    "\n",
    "if numbers%2 == 0:  ### if it's an even number\n",
    "    i = 2 ### set the initial value of the counter\n",
    "    while i <= len(lst): ### loop as long as the counter is not greater than the length of the list\n",
    "    print(i) \n",
    "    i = i+ 2 ### update the value of the counter by increasing 2 every time. \n",
    "else:\n",
    "    i = 1\n",
    "    while i <= len(lst):\n",
    "    print(i)\n",
    "    i = i+ 2\n"
   ]
  },
  {
   "cell_type": "markdown",
   "metadata": {},
   "source": [
    "# 7. Triangle\n",
    "\n",
    "Write a Python program that takes three side lengths from the users (i.e., ask a user to input three numbers, and tell users whether these three side length can be a valid triangle.\n",
    "\n",
    "If yes, print out the message \"This is a valid triangle.\". If not, print out the message \"Not a valid triangle.\" "
   ]
  },
  {
   "cell_type": "code",
   "execution_count": null,
   "metadata": {
    "collapsed": true
   },
   "outputs": [],
   "source": [
    "#### put your answer here \n",
    "### Hint: to convert a string to an integer in Python, you can use int()\n",
    "\n",
    "a = int(input(\"Please give me a number\")) \n",
    "b = int(input(\"Please give me a number\")) \n",
    "c = int(input(\"Please give me a number\")) \n",
    "\n",
    "if a + b > c and a + c > b and b + c > a:\n",
    "    print(\"This is a valid triangle.\")\n",
    "else:\n",
    "    print(\"Not a valid triangle\")\n"
   ]
  },
  {
   "cell_type": "markdown",
   "metadata": {},
   "source": [
    "# 8. Add up the numbers\n",
    "* Suppose you are asked to add the numbers 1, 2, 3, 4, …, 100 up. \n",
    "* Write a program to calculate the results\n",
    "* Hint: you can use *while* loop."
   ]
  },
  {
   "cell_type": "code",
   "execution_count": null,
   "metadata": {
    "collapsed": true
   },
   "outputs": [],
   "source": [
    "#### put your answer here \n",
    "# 1+2+3+4+5+6+...+100\n",
    "# 1 \n",
    "# 3 = 1+2\n",
    "# 6 = (1+2)+3\n",
    "# 10 = (1+2+3)+4\n",
    "\n",
    "n = 1\n",
    "result = 0\n",
    "while n <= 100:\n",
    "    result = n + result\n",
    "    n = n+1\n",
    "print(result)\n"
   ]
  },
  {
   "cell_type": "markdown",
   "metadata": {},
   "source": [
    "# 9. Print out all items in a list using a while loop\n",
    "* Suppose that you've created a list of file names: \n",
    "* files = [\"MA.wav\", \"EB.wav\", \"JD.wav\", \"MH.mp4\",\"MD.wmp4\",\"MB.mp4\",\"EF.mp4\",\"JP.mp4\"]\n",
    "* How to print out all the file names (i.e., the name expect for the file extension) in the list using a while loop?\n",
    "* The expected output would be [\"MA\",\"EB\",\"JD\",\"MH\",\"MD\",\"MB\",\"EF\",\"JP\"]\n"
   ]
  },
  {
   "cell_type": "code",
   "execution_count": null,
   "metadata": {
    "collapsed": true
   },
   "outputs": [],
   "source": [
    "#### put your answer here \n",
    "filenames = [\"MA.wav\", \"EB.wav\", \"JD.wav\", \"MH.mp4\",\"MD.wmp4\",\"MB.mp4\",\"EF.mp4\",\"JP.mp4\"]\n",
    "i = 0\n",
    "\n",
    "lst = []\n",
    "\n",
    "while i < len(filenames): # a while loop condition checks the boolean value: True or False\n",
    "    lst.append(filenames[i][0:2])\n",
    "    i += 1  ### same as  i = i+1\n",
    "    \n",
    "print (lst)"
   ]
  },
  {
   "cell_type": "markdown",
   "metadata": {},
   "source": [
    "### 10.  (extra credit. optional question. challenging): Use a while loop to print out a tree\n",
    "* Input: *\n",
    "\n",
    "* Exact desired output:\n",
    "                                *\n",
    "                               ***\n",
    "                              *****\n",
    "                             *******\n",
    "                            *********\n",
    "                               ***\n",
    "                               ***\n",
    "\n",
    "* Hint: \n",
    "    - each line has several spaces before the star symbol.  \n",
    "    - for the first five lines, each line has two more stars than the previous line\n",
    "    - Maybe we can print out the first five lines using *while*, then we print the bottom lines using *else*."
   ]
  },
  {
   "cell_type": "code",
   "execution_count": null,
   "metadata": {
    "collapsed": true
   },
   "outputs": [],
   "source": [
    "### put your answer here\n",
    "\n",
    "star = 1\n",
    "tree = \"*********\"\n",
    "\n",
    "while star<=len(tree): ### print the first five lines\n",
    "    line = int((len(tree)-star)/2)*\" \" + star*\"*\"  \n",
    "    ### add some empty space before printing the star;\n",
    "    ### for a line, more empty space, less star\n",
    "    print(line)\n",
    "    star = star + 2\n",
    "    \n",
    "else: ## print the last two lines\n",
    "    n = 0\n",
    "    while n < 2:\n",
    "        print(\" \"*(len(tree)//3) + \"*\"*(len(tree)//3)) \n",
    "        n = n + 1\n"
   ]
  }
 ],
 "metadata": {
  "kernelspec": {
   "display_name": "Python 3",
   "language": "python",
   "name": "python3"
  },
  "language_info": {
   "codemirror_mode": {
    "name": "ipython",
    "version": 3
   },
   "file_extension": ".py",
   "mimetype": "text/x-python",
   "name": "python",
   "nbconvert_exporter": "python",
   "pygments_lexer": "ipython3",
   "version": "3.6.1"
  }
 },
 "nbformat": 4,
 "nbformat_minor": 2
}
